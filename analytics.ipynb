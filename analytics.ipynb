{
 "cells": [
  {
   "cell_type": "markdown",
   "metadata": {},
   "source": [
    "## **Les bibloitique nécessaire pour le travaille :**"
   ]
  },
  {
   "cell_type": "code",
   "execution_count": 237,
   "metadata": {},
   "outputs": [],
   "source": [
    "import pandas as pd\n",
    "import numpy as np\n",
    "import matplotlib.pyplot as plt\n",
    "from scipy import stats"
   ]
  },
  {
   "cell_type": "markdown",
   "metadata": {},
   "source": [
    "### **L'importation de data :**"
   ]
  },
  {
   "cell_type": "code",
   "execution_count": 238,
   "metadata": {},
   "outputs": [
    {
     "data": {
      "text/html": [
       "<div>\n",
       "<style scoped>\n",
       "    .dataframe tbody tr th:only-of-type {\n",
       "        vertical-align: middle;\n",
       "    }\n",
       "\n",
       "    .dataframe tbody tr th {\n",
       "        vertical-align: top;\n",
       "    }\n",
       "\n",
       "    .dataframe thead th {\n",
       "        text-align: right;\n",
       "    }\n",
       "</style>\n",
       "<table border=\"1\" class=\"dataframe\">\n",
       "  <thead>\n",
       "    <tr style=\"text-align: right;\">\n",
       "      <th></th>\n",
       "      <th>employee_id</th>\n",
       "      <th>hire_date</th>\n",
       "      <th>department</th>\n",
       "      <th>job_title</th>\n",
       "      <th>salary</th>\n",
       "      <th>performance_score</th>\n",
       "      <th>education</th>\n",
       "      <th>email</th>\n",
       "      <th>location</th>\n",
       "      <th>age</th>\n",
       "      <th>years_of_experience</th>\n",
       "      <th>training_completed</th>\n",
       "      <th>last_promotion_date</th>\n",
       "      <th>projects_completed</th>\n",
       "      <th>satisfaction_score</th>\n",
       "      <th>bonus_percentage</th>\n",
       "      <th>first_name</th>\n",
       "      <th>last_name</th>\n",
       "    </tr>\n",
       "  </thead>\n",
       "  <tbody>\n",
       "    <tr>\n",
       "      <th>0</th>\n",
       "      <td>1001</td>\n",
       "      <td>2022-01-31</td>\n",
       "      <td>Operations</td>\n",
       "      <td>Junior Developer</td>\n",
       "      <td>129770.63</td>\n",
       "      <td>3.0</td>\n",
       "      <td>BACHELOR'S</td>\n",
       "      <td>emma.lopez@company.com</td>\n",
       "      <td>Remote</td>\n",
       "      <td>34</td>\n",
       "      <td>7</td>\n",
       "      <td>Yes</td>\n",
       "      <td>2026-08-13</td>\n",
       "      <td>8</td>\n",
       "      <td>5.0</td>\n",
       "      <td>0.166</td>\n",
       "      <td>Emma</td>\n",
       "      <td>Lopez</td>\n",
       "    </tr>\n",
       "    <tr>\n",
       "      <th>1</th>\n",
       "      <td>1002</td>\n",
       "      <td>2022-12-30</td>\n",
       "      <td>Operations</td>\n",
       "      <td>Administrator</td>\n",
       "      <td>40536.77</td>\n",
       "      <td>4.5</td>\n",
       "      <td>Associate</td>\n",
       "      <td>ava.williams@company.com</td>\n",
       "      <td>Remote</td>\n",
       "      <td>22</td>\n",
       "      <td>3</td>\n",
       "      <td>No</td>\n",
       "      <td>2024-05-06</td>\n",
       "      <td>20</td>\n",
       "      <td>NaN</td>\n",
       "      <td>0.165</td>\n",
       "      <td>Ava</td>\n",
       "      <td>Williams</td>\n",
       "    </tr>\n",
       "    <tr>\n",
       "      <th>2</th>\n",
       "      <td>1003</td>\n",
       "      <td>2021-05-10</td>\n",
       "      <td>IT</td>\n",
       "      <td>Analyst</td>\n",
       "      <td>NaN</td>\n",
       "      <td>2.5</td>\n",
       "      <td>PhD</td>\n",
       "      <td>charlotte.miller@company.com</td>\n",
       "      <td>Seattle</td>\n",
       "      <td>41</td>\n",
       "      <td>16</td>\n",
       "      <td>No</td>\n",
       "      <td>2022-05-24</td>\n",
       "      <td>8</td>\n",
       "      <td>5.0</td>\n",
       "      <td>0.038</td>\n",
       "      <td>Charlotte</td>\n",
       "      <td>Miller</td>\n",
       "    </tr>\n",
       "    <tr>\n",
       "      <th>3</th>\n",
       "      <td>1004</td>\n",
       "      <td>2022-07-18</td>\n",
       "      <td>operations</td>\n",
       "      <td>Coordinator</td>\n",
       "      <td>80803.21</td>\n",
       "      <td>4.5</td>\n",
       "      <td>PhD</td>\n",
       "      <td>daniel.johnson@company.com</td>\n",
       "      <td>Seattle</td>\n",
       "      <td>29</td>\n",
       "      <td>6</td>\n",
       "      <td>Yes</td>\n",
       "      <td>2027-07-06</td>\n",
       "      <td>9</td>\n",
       "      <td>5.0</td>\n",
       "      <td>0.140</td>\n",
       "      <td>Daniel</td>\n",
       "      <td>Johnson</td>\n",
       "    </tr>\n",
       "    <tr>\n",
       "      <th>4</th>\n",
       "      <td>1005</td>\n",
       "      <td>2022-02-04</td>\n",
       "      <td>Sales</td>\n",
       "      <td>Senior Developer</td>\n",
       "      <td>68189.31</td>\n",
       "      <td>2.5</td>\n",
       "      <td>Associate</td>\n",
       "      <td>daniel.johnson@company.com</td>\n",
       "      <td>Remote</td>\n",
       "      <td>31</td>\n",
       "      <td>10</td>\n",
       "      <td>Yes</td>\n",
       "      <td>2021-05-29</td>\n",
       "      <td>12</td>\n",
       "      <td>1.0</td>\n",
       "      <td>0.058</td>\n",
       "      <td>Daniel</td>\n",
       "      <td>Johnson</td>\n",
       "    </tr>\n",
       "    <tr>\n",
       "      <th>...</th>\n",
       "      <td>...</td>\n",
       "      <td>...</td>\n",
       "      <td>...</td>\n",
       "      <td>...</td>\n",
       "      <td>...</td>\n",
       "      <td>...</td>\n",
       "      <td>...</td>\n",
       "      <td>...</td>\n",
       "      <td>...</td>\n",
       "      <td>...</td>\n",
       "      <td>...</td>\n",
       "      <td>...</td>\n",
       "      <td>...</td>\n",
       "      <td>...</td>\n",
       "      <td>...</td>\n",
       "      <td>...</td>\n",
       "      <td>...</td>\n",
       "      <td>...</td>\n",
       "    </tr>\n",
       "    <tr>\n",
       "      <th>1245</th>\n",
       "      <td>2246</td>\n",
       "      <td>2022-03-29</td>\n",
       "      <td>Engineering</td>\n",
       "      <td>Senior Developer</td>\n",
       "      <td>89057.92</td>\n",
       "      <td>2.5</td>\n",
       "      <td>Associate</td>\n",
       "      <td>michael.gonzalez@company.com</td>\n",
       "      <td>Seattle</td>\n",
       "      <td>38</td>\n",
       "      <td>18</td>\n",
       "      <td>Yes</td>\n",
       "      <td>2025-11-06</td>\n",
       "      <td>20</td>\n",
       "      <td>2.0</td>\n",
       "      <td>0.068</td>\n",
       "      <td>Michael</td>\n",
       "      <td>Gonzalez</td>\n",
       "    </tr>\n",
       "    <tr>\n",
       "      <th>1246</th>\n",
       "      <td>2247</td>\n",
       "      <td>2022-02-17</td>\n",
       "      <td>Operations</td>\n",
       "      <td>Senior Developer</td>\n",
       "      <td>61067.99</td>\n",
       "      <td>3.5</td>\n",
       "      <td>High School</td>\n",
       "      <td>sophia.gonzalez@company.com</td>\n",
       "      <td>San Francisco</td>\n",
       "      <td>54</td>\n",
       "      <td>8</td>\n",
       "      <td>Yes</td>\n",
       "      <td>2025-09-15</td>\n",
       "      <td>18</td>\n",
       "      <td>4.0</td>\n",
       "      <td>0.188</td>\n",
       "      <td>Sophia</td>\n",
       "      <td>Gonzalez</td>\n",
       "    </tr>\n",
       "    <tr>\n",
       "      <th>1247</th>\n",
       "      <td>2248</td>\n",
       "      <td>2019-12-10</td>\n",
       "      <td>Engineering</td>\n",
       "      <td>Senior Developer</td>\n",
       "      <td>78546.53</td>\n",
       "      <td>3.5</td>\n",
       "      <td>Bachelor's</td>\n",
       "      <td>ava.davis@company.com</td>\n",
       "      <td>Austin</td>\n",
       "      <td>33</td>\n",
       "      <td>12</td>\n",
       "      <td>In Progress</td>\n",
       "      <td>2019-04-12</td>\n",
       "      <td>29</td>\n",
       "      <td>5.0</td>\n",
       "      <td>0.029</td>\n",
       "      <td>Ava</td>\n",
       "      <td>Davis</td>\n",
       "    </tr>\n",
       "    <tr>\n",
       "      <th>1248</th>\n",
       "      <td>2249</td>\n",
       "      <td>2023-02-08</td>\n",
       "      <td>Operations</td>\n",
       "      <td>Coordinator</td>\n",
       "      <td>55552.03</td>\n",
       "      <td>3.5</td>\n",
       "      <td>PHD</td>\n",
       "      <td>alexander.brown@company.com</td>\n",
       "      <td>Chicago</td>\n",
       "      <td>47</td>\n",
       "      <td>27</td>\n",
       "      <td>Yes</td>\n",
       "      <td>2026-04-08</td>\n",
       "      <td>17</td>\n",
       "      <td>1.0</td>\n",
       "      <td>0.177</td>\n",
       "      <td>Alexander</td>\n",
       "      <td>Brown</td>\n",
       "    </tr>\n",
       "    <tr>\n",
       "      <th>1249</th>\n",
       "      <td>2250</td>\n",
       "      <td>2023-06-20</td>\n",
       "      <td>Operations</td>\n",
       "      <td>Administrator</td>\n",
       "      <td>84184.72</td>\n",
       "      <td>3.5</td>\n",
       "      <td>High School</td>\n",
       "      <td>william.hernandez@company.com</td>\n",
       "      <td>Chicago</td>\n",
       "      <td>37</td>\n",
       "      <td>18</td>\n",
       "      <td>In Progress</td>\n",
       "      <td>2023-04-17</td>\n",
       "      <td>3</td>\n",
       "      <td>NaN</td>\n",
       "      <td>0.078</td>\n",
       "      <td>William</td>\n",
       "      <td>Hernandez</td>\n",
       "    </tr>\n",
       "  </tbody>\n",
       "</table>\n",
       "<p>1250 rows × 18 columns</p>\n",
       "</div>"
      ],
      "text/plain": [
       "      employee_id   hire_date   department         job_title     salary  \\\n",
       "0            1001  2022-01-31   Operations  Junior Developer  129770.63   \n",
       "1            1002  2022-12-30   Operations     Administrator   40536.77   \n",
       "2            1003  2021-05-10           IT           Analyst        NaN   \n",
       "3            1004  2022-07-18   operations       Coordinator   80803.21   \n",
       "4            1005  2022-02-04        Sales  Senior Developer   68189.31   \n",
       "...           ...         ...          ...               ...        ...   \n",
       "1245         2246  2022-03-29  Engineering  Senior Developer   89057.92   \n",
       "1246         2247  2022-02-17   Operations  Senior Developer   61067.99   \n",
       "1247         2248  2019-12-10  Engineering  Senior Developer   78546.53   \n",
       "1248         2249  2023-02-08   Operations       Coordinator   55552.03   \n",
       "1249         2250  2023-06-20   Operations     Administrator   84184.72   \n",
       "\n",
       "      performance_score    education                          email  \\\n",
       "0                   3.0   BACHELOR'S         emma.lopez@company.com   \n",
       "1                   4.5    Associate       ava.williams@company.com   \n",
       "2                   2.5          PhD   charlotte.miller@company.com   \n",
       "3                   4.5          PhD     daniel.johnson@company.com   \n",
       "4                   2.5    Associate     daniel.johnson@company.com   \n",
       "...                 ...          ...                            ...   \n",
       "1245                2.5    Associate   michael.gonzalez@company.com   \n",
       "1246                3.5  High School    sophia.gonzalez@company.com   \n",
       "1247                3.5   Bachelor's          ava.davis@company.com   \n",
       "1248                3.5          PHD    alexander.brown@company.com   \n",
       "1249                3.5  High School  william.hernandez@company.com   \n",
       "\n",
       "           location  age  years_of_experience training_completed  \\\n",
       "0            Remote   34                    7                Yes   \n",
       "1            Remote   22                    3                 No   \n",
       "2           Seattle   41                   16                 No   \n",
       "3           Seattle   29                    6                Yes   \n",
       "4            Remote   31                   10                Yes   \n",
       "...             ...  ...                  ...                ...   \n",
       "1245        Seattle   38                   18                Yes   \n",
       "1246  San Francisco   54                    8                Yes   \n",
       "1247         Austin   33                   12        In Progress   \n",
       "1248        Chicago   47                   27                Yes   \n",
       "1249        Chicago   37                   18        In Progress   \n",
       "\n",
       "     last_promotion_date  projects_completed  satisfaction_score  \\\n",
       "0             2026-08-13                   8                 5.0   \n",
       "1             2024-05-06                  20                 NaN   \n",
       "2             2022-05-24                   8                 5.0   \n",
       "3             2027-07-06                   9                 5.0   \n",
       "4             2021-05-29                  12                 1.0   \n",
       "...                  ...                 ...                 ...   \n",
       "1245          2025-11-06                  20                 2.0   \n",
       "1246          2025-09-15                  18                 4.0   \n",
       "1247          2019-04-12                  29                 5.0   \n",
       "1248          2026-04-08                  17                 1.0   \n",
       "1249          2023-04-17                   3                 NaN   \n",
       "\n",
       "      bonus_percentage first_name  last_name  \n",
       "0                0.166       Emma      Lopez  \n",
       "1                0.165        Ava   Williams  \n",
       "2                0.038  Charlotte     Miller  \n",
       "3                0.140     Daniel    Johnson  \n",
       "4                0.058     Daniel    Johnson  \n",
       "...                ...        ...        ...  \n",
       "1245             0.068    Michael   Gonzalez  \n",
       "1246             0.188     Sophia   Gonzalez  \n",
       "1247             0.029        Ava      Davis  \n",
       "1248             0.177  Alexander      Brown  \n",
       "1249             0.078    William  Hernandez  \n",
       "\n",
       "[1250 rows x 18 columns]"
      ]
     },
     "execution_count": 238,
     "metadata": {},
     "output_type": "execute_result"
    }
   ],
   "source": [
    "an = pd.read_csv('hr_analytics_dataset.csv')\n",
    "an\n"
   ]
  },
  {
   "cell_type": "markdown",
   "metadata": {},
   "source": [
    "### **Les informations générale sur le data :**"
   ]
  },
  {
   "cell_type": "code",
   "execution_count": 239,
   "metadata": {},
   "outputs": [
    {
     "data": {
      "text/html": [
       "<div>\n",
       "<style scoped>\n",
       "    .dataframe tbody tr th:only-of-type {\n",
       "        vertical-align: middle;\n",
       "    }\n",
       "\n",
       "    .dataframe tbody tr th {\n",
       "        vertical-align: top;\n",
       "    }\n",
       "\n",
       "    .dataframe thead th {\n",
       "        text-align: right;\n",
       "    }\n",
       "</style>\n",
       "<table border=\"1\" class=\"dataframe\">\n",
       "  <thead>\n",
       "    <tr style=\"text-align: right;\">\n",
       "      <th></th>\n",
       "      <th>employee_id</th>\n",
       "      <th>hire_date</th>\n",
       "      <th>department</th>\n",
       "      <th>job_title</th>\n",
       "      <th>salary</th>\n",
       "      <th>performance_score</th>\n",
       "      <th>education</th>\n",
       "      <th>email</th>\n",
       "      <th>location</th>\n",
       "      <th>age</th>\n",
       "      <th>years_of_experience</th>\n",
       "      <th>training_completed</th>\n",
       "      <th>last_promotion_date</th>\n",
       "      <th>projects_completed</th>\n",
       "      <th>satisfaction_score</th>\n",
       "      <th>bonus_percentage</th>\n",
       "      <th>first_name</th>\n",
       "      <th>last_name</th>\n",
       "    </tr>\n",
       "  </thead>\n",
       "  <tbody>\n",
       "    <tr>\n",
       "      <th>0</th>\n",
       "      <td>1001</td>\n",
       "      <td>2022-01-31</td>\n",
       "      <td>Operations</td>\n",
       "      <td>Junior Developer</td>\n",
       "      <td>129770.63</td>\n",
       "      <td>3.0</td>\n",
       "      <td>BACHELOR'S</td>\n",
       "      <td>emma.lopez@company.com</td>\n",
       "      <td>Remote</td>\n",
       "      <td>34</td>\n",
       "      <td>7</td>\n",
       "      <td>Yes</td>\n",
       "      <td>2026-08-13</td>\n",
       "      <td>8</td>\n",
       "      <td>5.0</td>\n",
       "      <td>0.166</td>\n",
       "      <td>Emma</td>\n",
       "      <td>Lopez</td>\n",
       "    </tr>\n",
       "    <tr>\n",
       "      <th>1</th>\n",
       "      <td>1002</td>\n",
       "      <td>2022-12-30</td>\n",
       "      <td>Operations</td>\n",
       "      <td>Administrator</td>\n",
       "      <td>40536.77</td>\n",
       "      <td>4.5</td>\n",
       "      <td>Associate</td>\n",
       "      <td>ava.williams@company.com</td>\n",
       "      <td>Remote</td>\n",
       "      <td>22</td>\n",
       "      <td>3</td>\n",
       "      <td>No</td>\n",
       "      <td>2024-05-06</td>\n",
       "      <td>20</td>\n",
       "      <td>NaN</td>\n",
       "      <td>0.165</td>\n",
       "      <td>Ava</td>\n",
       "      <td>Williams</td>\n",
       "    </tr>\n",
       "    <tr>\n",
       "      <th>2</th>\n",
       "      <td>1003</td>\n",
       "      <td>2021-05-10</td>\n",
       "      <td>IT</td>\n",
       "      <td>Analyst</td>\n",
       "      <td>NaN</td>\n",
       "      <td>2.5</td>\n",
       "      <td>PhD</td>\n",
       "      <td>charlotte.miller@company.com</td>\n",
       "      <td>Seattle</td>\n",
       "      <td>41</td>\n",
       "      <td>16</td>\n",
       "      <td>No</td>\n",
       "      <td>2022-05-24</td>\n",
       "      <td>8</td>\n",
       "      <td>5.0</td>\n",
       "      <td>0.038</td>\n",
       "      <td>Charlotte</td>\n",
       "      <td>Miller</td>\n",
       "    </tr>\n",
       "    <tr>\n",
       "      <th>3</th>\n",
       "      <td>1004</td>\n",
       "      <td>2022-07-18</td>\n",
       "      <td>operations</td>\n",
       "      <td>Coordinator</td>\n",
       "      <td>80803.21</td>\n",
       "      <td>4.5</td>\n",
       "      <td>PhD</td>\n",
       "      <td>daniel.johnson@company.com</td>\n",
       "      <td>Seattle</td>\n",
       "      <td>29</td>\n",
       "      <td>6</td>\n",
       "      <td>Yes</td>\n",
       "      <td>2027-07-06</td>\n",
       "      <td>9</td>\n",
       "      <td>5.0</td>\n",
       "      <td>0.140</td>\n",
       "      <td>Daniel</td>\n",
       "      <td>Johnson</td>\n",
       "    </tr>\n",
       "    <tr>\n",
       "      <th>4</th>\n",
       "      <td>1005</td>\n",
       "      <td>2022-02-04</td>\n",
       "      <td>Sales</td>\n",
       "      <td>Senior Developer</td>\n",
       "      <td>68189.31</td>\n",
       "      <td>2.5</td>\n",
       "      <td>Associate</td>\n",
       "      <td>daniel.johnson@company.com</td>\n",
       "      <td>Remote</td>\n",
       "      <td>31</td>\n",
       "      <td>10</td>\n",
       "      <td>Yes</td>\n",
       "      <td>2021-05-29</td>\n",
       "      <td>12</td>\n",
       "      <td>1.0</td>\n",
       "      <td>0.058</td>\n",
       "      <td>Daniel</td>\n",
       "      <td>Johnson</td>\n",
       "    </tr>\n",
       "  </tbody>\n",
       "</table>\n",
       "</div>"
      ],
      "text/plain": [
       "   employee_id   hire_date  department         job_title     salary  \\\n",
       "0         1001  2022-01-31  Operations  Junior Developer  129770.63   \n",
       "1         1002  2022-12-30  Operations     Administrator   40536.77   \n",
       "2         1003  2021-05-10          IT           Analyst        NaN   \n",
       "3         1004  2022-07-18  operations       Coordinator   80803.21   \n",
       "4         1005  2022-02-04       Sales  Senior Developer   68189.31   \n",
       "\n",
       "   performance_score   education                         email location  age  \\\n",
       "0                3.0  BACHELOR'S        emma.lopez@company.com   Remote   34   \n",
       "1                4.5   Associate      ava.williams@company.com   Remote   22   \n",
       "2                2.5         PhD  charlotte.miller@company.com  Seattle   41   \n",
       "3                4.5         PhD    daniel.johnson@company.com  Seattle   29   \n",
       "4                2.5   Associate    daniel.johnson@company.com   Remote   31   \n",
       "\n",
       "   years_of_experience training_completed last_promotion_date  \\\n",
       "0                    7                Yes          2026-08-13   \n",
       "1                    3                 No          2024-05-06   \n",
       "2                   16                 No          2022-05-24   \n",
       "3                    6                Yes          2027-07-06   \n",
       "4                   10                Yes          2021-05-29   \n",
       "\n",
       "   projects_completed  satisfaction_score  bonus_percentage first_name  \\\n",
       "0                   8                 5.0             0.166       Emma   \n",
       "1                  20                 NaN             0.165        Ava   \n",
       "2                   8                 5.0             0.038  Charlotte   \n",
       "3                   9                 5.0             0.140     Daniel   \n",
       "4                  12                 1.0             0.058     Daniel   \n",
       "\n",
       "  last_name  \n",
       "0     Lopez  \n",
       "1  Williams  \n",
       "2    Miller  \n",
       "3   Johnson  \n",
       "4   Johnson  "
      ]
     },
     "execution_count": 239,
     "metadata": {},
     "output_type": "execute_result"
    }
   ],
   "source": [
    "an.head(5)"
   ]
  },
  {
   "cell_type": "code",
   "execution_count": 240,
   "metadata": {},
   "outputs": [
    {
     "data": {
      "text/html": [
       "<div>\n",
       "<style scoped>\n",
       "    .dataframe tbody tr th:only-of-type {\n",
       "        vertical-align: middle;\n",
       "    }\n",
       "\n",
       "    .dataframe tbody tr th {\n",
       "        vertical-align: top;\n",
       "    }\n",
       "\n",
       "    .dataframe thead th {\n",
       "        text-align: right;\n",
       "    }\n",
       "</style>\n",
       "<table border=\"1\" class=\"dataframe\">\n",
       "  <thead>\n",
       "    <tr style=\"text-align: right;\">\n",
       "      <th></th>\n",
       "      <th>employee_id</th>\n",
       "      <th>hire_date</th>\n",
       "      <th>department</th>\n",
       "      <th>job_title</th>\n",
       "      <th>salary</th>\n",
       "      <th>performance_score</th>\n",
       "      <th>education</th>\n",
       "      <th>email</th>\n",
       "      <th>location</th>\n",
       "      <th>age</th>\n",
       "      <th>years_of_experience</th>\n",
       "      <th>training_completed</th>\n",
       "      <th>last_promotion_date</th>\n",
       "      <th>projects_completed</th>\n",
       "      <th>satisfaction_score</th>\n",
       "      <th>bonus_percentage</th>\n",
       "      <th>first_name</th>\n",
       "      <th>last_name</th>\n",
       "    </tr>\n",
       "  </thead>\n",
       "  <tbody>\n",
       "    <tr>\n",
       "      <th>1245</th>\n",
       "      <td>2246</td>\n",
       "      <td>2022-03-29</td>\n",
       "      <td>Engineering</td>\n",
       "      <td>Senior Developer</td>\n",
       "      <td>89057.92</td>\n",
       "      <td>2.5</td>\n",
       "      <td>Associate</td>\n",
       "      <td>michael.gonzalez@company.com</td>\n",
       "      <td>Seattle</td>\n",
       "      <td>38</td>\n",
       "      <td>18</td>\n",
       "      <td>Yes</td>\n",
       "      <td>2025-11-06</td>\n",
       "      <td>20</td>\n",
       "      <td>2.0</td>\n",
       "      <td>0.068</td>\n",
       "      <td>Michael</td>\n",
       "      <td>Gonzalez</td>\n",
       "    </tr>\n",
       "    <tr>\n",
       "      <th>1246</th>\n",
       "      <td>2247</td>\n",
       "      <td>2022-02-17</td>\n",
       "      <td>Operations</td>\n",
       "      <td>Senior Developer</td>\n",
       "      <td>61067.99</td>\n",
       "      <td>3.5</td>\n",
       "      <td>High School</td>\n",
       "      <td>sophia.gonzalez@company.com</td>\n",
       "      <td>San Francisco</td>\n",
       "      <td>54</td>\n",
       "      <td>8</td>\n",
       "      <td>Yes</td>\n",
       "      <td>2025-09-15</td>\n",
       "      <td>18</td>\n",
       "      <td>4.0</td>\n",
       "      <td>0.188</td>\n",
       "      <td>Sophia</td>\n",
       "      <td>Gonzalez</td>\n",
       "    </tr>\n",
       "    <tr>\n",
       "      <th>1247</th>\n",
       "      <td>2248</td>\n",
       "      <td>2019-12-10</td>\n",
       "      <td>Engineering</td>\n",
       "      <td>Senior Developer</td>\n",
       "      <td>78546.53</td>\n",
       "      <td>3.5</td>\n",
       "      <td>Bachelor's</td>\n",
       "      <td>ava.davis@company.com</td>\n",
       "      <td>Austin</td>\n",
       "      <td>33</td>\n",
       "      <td>12</td>\n",
       "      <td>In Progress</td>\n",
       "      <td>2019-04-12</td>\n",
       "      <td>29</td>\n",
       "      <td>5.0</td>\n",
       "      <td>0.029</td>\n",
       "      <td>Ava</td>\n",
       "      <td>Davis</td>\n",
       "    </tr>\n",
       "    <tr>\n",
       "      <th>1248</th>\n",
       "      <td>2249</td>\n",
       "      <td>2023-02-08</td>\n",
       "      <td>Operations</td>\n",
       "      <td>Coordinator</td>\n",
       "      <td>55552.03</td>\n",
       "      <td>3.5</td>\n",
       "      <td>PHD</td>\n",
       "      <td>alexander.brown@company.com</td>\n",
       "      <td>Chicago</td>\n",
       "      <td>47</td>\n",
       "      <td>27</td>\n",
       "      <td>Yes</td>\n",
       "      <td>2026-04-08</td>\n",
       "      <td>17</td>\n",
       "      <td>1.0</td>\n",
       "      <td>0.177</td>\n",
       "      <td>Alexander</td>\n",
       "      <td>Brown</td>\n",
       "    </tr>\n",
       "    <tr>\n",
       "      <th>1249</th>\n",
       "      <td>2250</td>\n",
       "      <td>2023-06-20</td>\n",
       "      <td>Operations</td>\n",
       "      <td>Administrator</td>\n",
       "      <td>84184.72</td>\n",
       "      <td>3.5</td>\n",
       "      <td>High School</td>\n",
       "      <td>william.hernandez@company.com</td>\n",
       "      <td>Chicago</td>\n",
       "      <td>37</td>\n",
       "      <td>18</td>\n",
       "      <td>In Progress</td>\n",
       "      <td>2023-04-17</td>\n",
       "      <td>3</td>\n",
       "      <td>NaN</td>\n",
       "      <td>0.078</td>\n",
       "      <td>William</td>\n",
       "      <td>Hernandez</td>\n",
       "    </tr>\n",
       "  </tbody>\n",
       "</table>\n",
       "</div>"
      ],
      "text/plain": [
       "      employee_id   hire_date   department         job_title    salary  \\\n",
       "1245         2246  2022-03-29  Engineering  Senior Developer  89057.92   \n",
       "1246         2247  2022-02-17   Operations  Senior Developer  61067.99   \n",
       "1247         2248  2019-12-10  Engineering  Senior Developer  78546.53   \n",
       "1248         2249  2023-02-08   Operations       Coordinator  55552.03   \n",
       "1249         2250  2023-06-20   Operations     Administrator  84184.72   \n",
       "\n",
       "      performance_score    education                          email  \\\n",
       "1245                2.5    Associate   michael.gonzalez@company.com   \n",
       "1246                3.5  High School    sophia.gonzalez@company.com   \n",
       "1247                3.5   Bachelor's          ava.davis@company.com   \n",
       "1248                3.5          PHD    alexander.brown@company.com   \n",
       "1249                3.5  High School  william.hernandez@company.com   \n",
       "\n",
       "           location  age  years_of_experience training_completed  \\\n",
       "1245        Seattle   38                   18                Yes   \n",
       "1246  San Francisco   54                    8                Yes   \n",
       "1247         Austin   33                   12        In Progress   \n",
       "1248        Chicago   47                   27                Yes   \n",
       "1249        Chicago   37                   18        In Progress   \n",
       "\n",
       "     last_promotion_date  projects_completed  satisfaction_score  \\\n",
       "1245          2025-11-06                  20                 2.0   \n",
       "1246          2025-09-15                  18                 4.0   \n",
       "1247          2019-04-12                  29                 5.0   \n",
       "1248          2026-04-08                  17                 1.0   \n",
       "1249          2023-04-17                   3                 NaN   \n",
       "\n",
       "      bonus_percentage first_name  last_name  \n",
       "1245             0.068    Michael   Gonzalez  \n",
       "1246             0.188     Sophia   Gonzalez  \n",
       "1247             0.029        Ava      Davis  \n",
       "1248             0.177  Alexander      Brown  \n",
       "1249             0.078    William  Hernandez  "
      ]
     },
     "execution_count": 240,
     "metadata": {},
     "output_type": "execute_result"
    }
   ],
   "source": [
    "an.tail(5)"
   ]
  },
  {
   "cell_type": "code",
   "execution_count": 241,
   "metadata": {},
   "outputs": [
    {
     "data": {
      "text/plain": [
       "(1250, 18)"
      ]
     },
     "execution_count": 241,
     "metadata": {},
     "output_type": "execute_result"
    }
   ],
   "source": [
    "original_shape = an.shape\n",
    "original_shape"
   ]
  },
  {
   "cell_type": "code",
   "execution_count": 242,
   "metadata": {},
   "outputs": [
    {
     "data": {
      "text/plain": [
       "Index(['employee_id', 'hire_date', 'department', 'job_title', 'salary',\n",
       "       'performance_score', 'education', 'email', 'location', 'age',\n",
       "       'years_of_experience', 'training_completed', 'last_promotion_date',\n",
       "       'projects_completed', 'satisfaction_score', 'bonus_percentage',\n",
       "       'first_name', 'last_name'],\n",
       "      dtype='object')"
      ]
     },
     "execution_count": 242,
     "metadata": {},
     "output_type": "execute_result"
    }
   ],
   "source": [
    "an.columns"
   ]
  },
  {
   "cell_type": "code",
   "execution_count": 243,
   "metadata": {},
   "outputs": [
    {
     "data": {
      "text/plain": [
       "employee_id              int64\n",
       "hire_date               object\n",
       "department              object\n",
       "job_title               object\n",
       "salary                 float64\n",
       "performance_score      float64\n",
       "education               object\n",
       "email                   object\n",
       "location                object\n",
       "age                      int64\n",
       "years_of_experience      int64\n",
       "training_completed      object\n",
       "last_promotion_date     object\n",
       "projects_completed       int64\n",
       "satisfaction_score     float64\n",
       "bonus_percentage       float64\n",
       "first_name              object\n",
       "last_name               object\n",
       "dtype: object"
      ]
     },
     "execution_count": 243,
     "metadata": {},
     "output_type": "execute_result"
    }
   ],
   "source": [
    "an.dtypes"
   ]
  },
  {
   "cell_type": "code",
   "execution_count": 244,
   "metadata": {},
   "outputs": [
    {
     "data": {
      "text/html": [
       "<div>\n",
       "<style scoped>\n",
       "    .dataframe tbody tr th:only-of-type {\n",
       "        vertical-align: middle;\n",
       "    }\n",
       "\n",
       "    .dataframe tbody tr th {\n",
       "        vertical-align: top;\n",
       "    }\n",
       "\n",
       "    .dataframe thead th {\n",
       "        text-align: right;\n",
       "    }\n",
       "</style>\n",
       "<table border=\"1\" class=\"dataframe\">\n",
       "  <thead>\n",
       "    <tr style=\"text-align: right;\">\n",
       "      <th></th>\n",
       "      <th>employee_id</th>\n",
       "      <th>salary</th>\n",
       "      <th>performance_score</th>\n",
       "      <th>age</th>\n",
       "      <th>years_of_experience</th>\n",
       "      <th>projects_completed</th>\n",
       "      <th>satisfaction_score</th>\n",
       "      <th>bonus_percentage</th>\n",
       "    </tr>\n",
       "  </thead>\n",
       "  <tbody>\n",
       "    <tr>\n",
       "      <th>count</th>\n",
       "      <td>1250.000000</td>\n",
       "      <td>1200.000000</td>\n",
       "      <td>1194.000000</td>\n",
       "      <td>1250.000000</td>\n",
       "      <td>1250.000000</td>\n",
       "      <td>1250.000000</td>\n",
       "      <td>1025.000000</td>\n",
       "      <td>1250.000000</td>\n",
       "    </tr>\n",
       "    <tr>\n",
       "      <th>mean</th>\n",
       "      <td>1625.500000</td>\n",
       "      <td>78818.635368</td>\n",
       "      <td>3.524288</td>\n",
       "      <td>42.979200</td>\n",
       "      <td>20.534400</td>\n",
       "      <td>15.078400</td>\n",
       "      <td>3.080976</td>\n",
       "      <td>0.098942</td>\n",
       "    </tr>\n",
       "    <tr>\n",
       "      <th>std</th>\n",
       "      <td>360.988227</td>\n",
       "      <td>33966.215108</td>\n",
       "      <td>0.988321</td>\n",
       "      <td>12.448114</td>\n",
       "      <td>12.228902</td>\n",
       "      <td>8.636523</td>\n",
       "      <td>1.417069</td>\n",
       "      <td>0.057513</td>\n",
       "    </tr>\n",
       "    <tr>\n",
       "      <th>min</th>\n",
       "      <td>1001.000000</td>\n",
       "      <td>-9670.340000</td>\n",
       "      <td>2.000000</td>\n",
       "      <td>22.000000</td>\n",
       "      <td>0.000000</td>\n",
       "      <td>0.000000</td>\n",
       "      <td>1.000000</td>\n",
       "      <td>0.000000</td>\n",
       "    </tr>\n",
       "    <tr>\n",
       "      <th>25%</th>\n",
       "      <td>1313.250000</td>\n",
       "      <td>58622.395000</td>\n",
       "      <td>2.500000</td>\n",
       "      <td>32.000000</td>\n",
       "      <td>10.000000</td>\n",
       "      <td>8.000000</td>\n",
       "      <td>2.000000</td>\n",
       "      <td>0.049000</td>\n",
       "    </tr>\n",
       "    <tr>\n",
       "      <th>50%</th>\n",
       "      <td>1625.500000</td>\n",
       "      <td>77596.700000</td>\n",
       "      <td>3.500000</td>\n",
       "      <td>42.000000</td>\n",
       "      <td>20.000000</td>\n",
       "      <td>15.000000</td>\n",
       "      <td>3.000000</td>\n",
       "      <td>0.098500</td>\n",
       "    </tr>\n",
       "    <tr>\n",
       "      <th>75%</th>\n",
       "      <td>1937.750000</td>\n",
       "      <td>93657.422500</td>\n",
       "      <td>4.500000</td>\n",
       "      <td>54.000000</td>\n",
       "      <td>31.000000</td>\n",
       "      <td>23.000000</td>\n",
       "      <td>4.000000</td>\n",
       "      <td>0.149000</td>\n",
       "    </tr>\n",
       "    <tr>\n",
       "      <th>max</th>\n",
       "      <td>2250.000000</td>\n",
       "      <td>297054.480027</td>\n",
       "      <td>5.000000</td>\n",
       "      <td>78.000000</td>\n",
       "      <td>45.000000</td>\n",
       "      <td>29.000000</td>\n",
       "      <td>5.000000</td>\n",
       "      <td>0.200000</td>\n",
       "    </tr>\n",
       "  </tbody>\n",
       "</table>\n",
       "</div>"
      ],
      "text/plain": [
       "       employee_id         salary  performance_score          age  \\\n",
       "count  1250.000000    1200.000000        1194.000000  1250.000000   \n",
       "mean   1625.500000   78818.635368           3.524288    42.979200   \n",
       "std     360.988227   33966.215108           0.988321    12.448114   \n",
       "min    1001.000000   -9670.340000           2.000000    22.000000   \n",
       "25%    1313.250000   58622.395000           2.500000    32.000000   \n",
       "50%    1625.500000   77596.700000           3.500000    42.000000   \n",
       "75%    1937.750000   93657.422500           4.500000    54.000000   \n",
       "max    2250.000000  297054.480027           5.000000    78.000000   \n",
       "\n",
       "       years_of_experience  projects_completed  satisfaction_score  \\\n",
       "count          1250.000000         1250.000000         1025.000000   \n",
       "mean             20.534400           15.078400            3.080976   \n",
       "std              12.228902            8.636523            1.417069   \n",
       "min               0.000000            0.000000            1.000000   \n",
       "25%              10.000000            8.000000            2.000000   \n",
       "50%              20.000000           15.000000            3.000000   \n",
       "75%              31.000000           23.000000            4.000000   \n",
       "max              45.000000           29.000000            5.000000   \n",
       "\n",
       "       bonus_percentage  \n",
       "count       1250.000000  \n",
       "mean           0.098942  \n",
       "std            0.057513  \n",
       "min            0.000000  \n",
       "25%            0.049000  \n",
       "50%            0.098500  \n",
       "75%            0.149000  \n",
       "max            0.200000  "
      ]
     },
     "execution_count": 244,
     "metadata": {},
     "output_type": "execute_result"
    }
   ],
   "source": [
    "an.describe()"
   ]
  },
  {
   "cell_type": "code",
   "execution_count": 245,
   "metadata": {},
   "outputs": [
    {
     "name": "stdout",
     "output_type": "stream",
     "text": [
      "<class 'pandas.core.frame.DataFrame'>\n",
      "RangeIndex: 1250 entries, 0 to 1249\n",
      "Data columns (total 18 columns):\n",
      " #   Column               Non-Null Count  Dtype  \n",
      "---  ------               --------------  -----  \n",
      " 0   employee_id          1250 non-null   int64  \n",
      " 1   hire_date            1220 non-null   object \n",
      " 2   department           1250 non-null   object \n",
      " 3   job_title            1250 non-null   object \n",
      " 4   salary               1200 non-null   float64\n",
      " 5   performance_score    1194 non-null   float64\n",
      " 6   education            1194 non-null   object \n",
      " 7   email                1250 non-null   object \n",
      " 8   location             1183 non-null   object \n",
      " 9   age                  1250 non-null   int64  \n",
      " 10  years_of_experience  1250 non-null   int64  \n",
      " 11  training_completed   1199 non-null   object \n",
      " 12  last_promotion_date  1250 non-null   object \n",
      " 13  projects_completed   1250 non-null   int64  \n",
      " 14  satisfaction_score   1025 non-null   float64\n",
      " 15  bonus_percentage     1250 non-null   float64\n",
      " 16  first_name           1250 non-null   object \n",
      " 17  last_name            1250 non-null   object \n",
      "dtypes: float64(4), int64(4), object(10)\n",
      "memory usage: 175.9+ KB\n"
     ]
    }
   ],
   "source": [
    "an.info()"
   ]
  },
  {
   "cell_type": "markdown",
   "metadata": {},
   "source": [
    "# **data cleaning**"
   ]
  },
  {
   "cell_type": "markdown",
   "metadata": {},
   "source": [
    "## *Les doublets :*"
   ]
  },
  {
   "cell_type": "code",
   "execution_count": 246,
   "metadata": {},
   "outputs": [
    {
     "data": {
      "text/plain": [
       "0"
      ]
     },
     "execution_count": 246,
     "metadata": {},
     "output_type": "execute_result"
    }
   ],
   "source": [
    "an.duplicated().sum()"
   ]
  },
  {
   "cell_type": "markdown",
   "metadata": {},
   "source": [
    "## *les colonnes*"
   ]
  },
  {
   "cell_type": "code",
   "execution_count": 247,
   "metadata": {},
   "outputs": [
    {
     "data": {
      "text/plain": [
       "hire_date              851\n",
       "department              14\n",
       "job_title                9\n",
       "education               10\n",
       "email                  297\n",
       "location                 6\n",
       "training_completed       3\n",
       "last_promotion_date    987\n",
       "first_name              15\n",
       "last_name               13\n",
       "dtype: int64"
      ]
     },
     "execution_count": 247,
     "metadata": {},
     "output_type": "execute_result"
    }
   ],
   "source": [
    "an.select_dtypes(include=['object']).nunique()"
   ]
  },
  {
   "cell_type": "code",
   "execution_count": 248,
   "metadata": {},
   "outputs": [
    {
     "data": {
      "text/plain": [
       "employee_id            1250\n",
       "salary                 1153\n",
       "performance_score         7\n",
       "age                      51\n",
       "years_of_experience      46\n",
       "projects_completed       30\n",
       "satisfaction_score        5\n",
       "bonus_percentage        201\n",
       "dtype: int64"
      ]
     },
     "execution_count": 248,
     "metadata": {},
     "output_type": "execute_result"
    }
   ],
   "source": [
    "an.select_dtypes(include=['float' , 'int']).nunique()"
   ]
  },
  {
   "cell_type": "code",
   "execution_count": 249,
   "metadata": {},
   "outputs": [
    {
     "data": {
      "text/plain": [
       "employee_id              int64\n",
       "hire_date               object\n",
       "department              object\n",
       "job_title               object\n",
       "salary                 float64\n",
       "performance_score      float64\n",
       "education               object\n",
       "email                   object\n",
       "location                object\n",
       "age                      int64\n",
       "years_of_experience      int64\n",
       "training_completed      object\n",
       "last_promotion_date     object\n",
       "projects_completed       int64\n",
       "satisfaction_score     float64\n",
       "bonus_percentage       float64\n",
       "first_name              object\n",
       "last_name               object\n",
       "dtype: object"
      ]
     },
     "execution_count": 249,
     "metadata": {},
     "output_type": "execute_result"
    }
   ],
   "source": [
    "an.dtypes"
   ]
  },
  {
   "cell_type": "markdown",
   "metadata": {},
   "source": [
    "### La creation d'une fonction de detection des outliers et d'autre pour la supression:"
   ]
  },
  {
   "cell_type": "markdown",
   "metadata": {},
   "source": [
    "- **La detection des outliers :**"
   ]
  },
  {
   "cell_type": "code",
   "execution_count": 250,
   "metadata": {},
   "outputs": [],
   "source": [
    "def detect_outliers(an, column):\n",
    "      z_scores = stats.zscore(an[column]) \n",
    "      threshold = 3\n",
    "      return an[np.abs(z_scores) > threshold][column]"
   ]
  },
  {
   "cell_type": "markdown",
   "metadata": {},
   "source": [
    "- **La supprission des outliers :**"
   ]
  },
  {
   "cell_type": "code",
   "execution_count": 251,
   "metadata": {},
   "outputs": [],
   "source": [
    "def remove_outliers(an, column): \n",
    "      z_scores = stats.zscore(an[column]) \n",
    "      threshold = 3 \n",
    "      return an[np.abs(z_scores) < threshold]"
   ]
  },
  {
   "cell_type": "markdown",
   "metadata": {},
   "source": [
    "## Colonne : ***hire date*** "
   ]
  },
  {
   "cell_type": "markdown",
   "metadata": {},
   "source": [
    "- **Le trancformation de type de colonne \"hire_date\" to datetime :**"
   ]
  },
  {
   "cell_type": "code",
   "execution_count": 252,
   "metadata": {},
   "outputs": [],
   "source": [
    "an['hire_date'] = pd.to_datetime(an['hire_date'])"
   ]
  },
  {
   "cell_type": "markdown",
   "metadata": {},
   "source": [
    "- **La verification de transformation :**"
   ]
  },
  {
   "cell_type": "code",
   "execution_count": 253,
   "metadata": {},
   "outputs": [
    {
     "name": "stdout",
     "output_type": "stream",
     "text": [
      "<class 'pandas.core.frame.DataFrame'>\n",
      "RangeIndex: 1250 entries, 0 to 1249\n",
      "Data columns (total 18 columns):\n",
      " #   Column               Non-Null Count  Dtype         \n",
      "---  ------               --------------  -----         \n",
      " 0   employee_id          1250 non-null   int64         \n",
      " 1   hire_date            1220 non-null   datetime64[ns]\n",
      " 2   department           1250 non-null   object        \n",
      " 3   job_title            1250 non-null   object        \n",
      " 4   salary               1200 non-null   float64       \n",
      " 5   performance_score    1194 non-null   float64       \n",
      " 6   education            1194 non-null   object        \n",
      " 7   email                1250 non-null   object        \n",
      " 8   location             1183 non-null   object        \n",
      " 9   age                  1250 non-null   int64         \n",
      " 10  years_of_experience  1250 non-null   int64         \n",
      " 11  training_completed   1199 non-null   object        \n",
      " 12  last_promotion_date  1250 non-null   object        \n",
      " 13  projects_completed   1250 non-null   int64         \n",
      " 14  satisfaction_score   1025 non-null   float64       \n",
      " 15  bonus_percentage     1250 non-null   float64       \n",
      " 16  first_name           1250 non-null   object        \n",
      " 17  last_name            1250 non-null   object        \n",
      "dtypes: datetime64[ns](1), float64(4), int64(4), object(9)\n",
      "memory usage: 175.9+ KB\n"
     ]
    }
   ],
   "source": [
    "an.info()"
   ]
  },
  {
   "cell_type": "markdown",
   "metadata": {},
   "source": [
    "- **Le nombre des valeur nul dans ce colonne :**"
   ]
  },
  {
   "cell_type": "code",
   "execution_count": 254,
   "metadata": {},
   "outputs": [
    {
     "data": {
      "text/plain": [
       "30"
      ]
     },
     "execution_count": 254,
     "metadata": {},
     "output_type": "execute_result"
    }
   ],
   "source": [
    "an['hire_date'].isnull().sum()"
   ]
  },
  {
   "cell_type": "markdown",
   "metadata": {},
   "source": [
    "- **La supression de ces nombres (parce qu'ils rare)**"
   ]
  },
  {
   "cell_type": "code",
   "execution_count": 255,
   "metadata": {},
   "outputs": [],
   "source": [
    "an.dropna(subset=['hire_date'], inplace=True)"
   ]
  },
  {
   "cell_type": "markdown",
   "metadata": {},
   "source": [
    "- **La verification de supression :**"
   ]
  },
  {
   "cell_type": "code",
   "execution_count": 256,
   "metadata": {},
   "outputs": [
    {
     "data": {
      "text/plain": [
       "0"
      ]
     },
     "execution_count": 256,
     "metadata": {},
     "output_type": "execute_result"
    }
   ],
   "source": [
    "an['hire_date'].isnull().sum()"
   ]
  },
  {
   "cell_type": "markdown",
   "metadata": {},
   "source": [
    "## Colonne : ***salary*** "
   ]
  },
  {
   "cell_type": "markdown",
   "metadata": {},
   "source": [
    "- **Afficher les statistique de cet colonne :**"
   ]
  },
  {
   "cell_type": "code",
   "execution_count": 257,
   "metadata": {},
   "outputs": [
    {
     "data": {
      "text/plain": [
       "count      1171.000000\n",
       "mean      78900.102409\n",
       "std       33480.915900\n",
       "min       -9670.340000\n",
       "25%       58701.230000\n",
       "50%       77679.010000\n",
       "75%       93700.170000\n",
       "max      296409.073131\n",
       "Name: salary, dtype: float64"
      ]
     },
     "execution_count": 257,
     "metadata": {},
     "output_type": "execute_result"
    }
   ],
   "source": [
    "an['salary'].describe()"
   ]
  },
  {
   "cell_type": "markdown",
   "metadata": {},
   "source": [
    "- **Le nombre des valeur nul :**"
   ]
  },
  {
   "cell_type": "code",
   "execution_count": 258,
   "metadata": {},
   "outputs": [
    {
     "data": {
      "text/plain": [
       "49"
      ]
     },
     "execution_count": 258,
     "metadata": {},
     "output_type": "execute_result"
    }
   ],
   "source": [
    "an['salary'].isnull().sum()"
   ]
  },
  {
   "cell_type": "markdown",
   "metadata": {},
   "source": [
    "- **La remplissage des valeurs nul pour la median** (Parce qqu'il exisis des valeurs abirants dans cet colonne)"
   ]
  },
  {
   "cell_type": "code",
   "execution_count": 259,
   "metadata": {},
   "outputs": [
    {
     "name": "stderr",
     "output_type": "stream",
     "text": [
      "C:\\Users\\ACH\\AppData\\Local\\Temp\\ipykernel_11372\\3434377602.py:1: FutureWarning: A value is trying to be set on a copy of a DataFrame or Series through chained assignment using an inplace method.\n",
      "The behavior will change in pandas 3.0. This inplace method will never work because the intermediate object on which we are setting values always behaves as a copy.\n",
      "\n",
      "For example, when doing 'df[col].method(value, inplace=True)', try using 'df.method({col: value}, inplace=True)' or df[col] = df[col].method(value) instead, to perform the operation inplace on the original object.\n",
      "\n",
      "\n",
      "  an['salary'].fillna(an['salary'].median(), inplace=True)\n"
     ]
    }
   ],
   "source": [
    "an['salary'].fillna(an['salary'].median(), inplace=True)"
   ]
  },
  {
   "cell_type": "markdown",
   "metadata": {},
   "source": [
    "- **La verification de la remplacement :**"
   ]
  },
  {
   "cell_type": "code",
   "execution_count": 260,
   "metadata": {},
   "outputs": [
    {
     "data": {
      "text/plain": [
       "0"
      ]
     },
     "execution_count": 260,
     "metadata": {},
     "output_type": "execute_result"
    }
   ],
   "source": [
    "an['salary'].isnull().sum()"
   ]
  },
  {
   "cell_type": "markdown",
   "metadata": {},
   "source": [
    "- **La detection des outliers :**"
   ]
  },
  {
   "cell_type": "code",
   "execution_count": 261,
   "metadata": {},
   "outputs": [
    {
     "name": "stdout",
     "output_type": "stream",
     "text": [
      "253     272819.995353\n",
      "302     212398.333585\n",
      "304     244243.223029\n",
      "353     236937.594129\n",
      "361     265292.418494\n",
      "381     252546.160104\n",
      "463     232675.612705\n",
      "472     216280.028544\n",
      "556     292504.427120\n",
      "569     273266.162702\n",
      "644     202337.772169\n",
      "760     217583.871981\n",
      "799     284823.667759\n",
      "884     263313.799932\n",
      "889     256602.713057\n",
      "977     270188.989117\n",
      "1101    265325.527707\n",
      "1191    255567.290894\n",
      "1219    296409.073131\n",
      "Name: salary, dtype: float64\n"
     ]
    }
   ],
   "source": [
    "print(detect_outliers(an , 'salary'))"
   ]
  },
  {
   "cell_type": "markdown",
   "metadata": {},
   "source": [
    "- **La supression des outliers :**"
   ]
  },
  {
   "cell_type": "code",
   "execution_count": 262,
   "metadata": {},
   "outputs": [],
   "source": [
    "an = remove_outliers(an , 'salary')"
   ]
  },
  {
   "cell_type": "markdown",
   "metadata": {},
   "source": [
    "- **La visualisation :**"
   ]
  },
  {
   "cell_type": "code",
   "execution_count": 263,
   "metadata": {},
   "outputs": [
    {
     "data": {
      "image/png": "[encoded data removed]",
      "text/plain": [
       "<Figure size 640x480 with 1 Axes>"
      ]
     },
     "metadata": {},
     "output_type": "display_data"
    }
   ],
   "source": [
    "plt.scatter(an['salary'], np.arange(an.shape[0]))\n",
    "plt.xlabel('Index')\n",
    "plt.ylabel('Salary')\n",
    "plt.title('Salary Distribution')\n",
    "plt.show()"
   ]
  },
  {
   "cell_type": "markdown",
   "metadata": {},
   "source": [
    "## Colonne : ***performance score***"
   ]
  },
  {
   "cell_type": "markdown",
   "metadata": {},
   "source": [
    "- **Les statistique de cet colonne :**"
   ]
  },
  {
   "cell_type": "code",
   "execution_count": 264,
   "metadata": {},
   "outputs": [
    {
     "data": {
      "text/plain": [
       "count    1146.000000\n",
       "mean        3.534031\n",
       "std         0.986004\n",
       "min         2.000000\n",
       "25%         2.500000\n",
       "50%         3.500000\n",
       "75%         4.500000\n",
       "max         5.000000\n",
       "Name: performance_score, dtype: float64"
      ]
     },
     "execution_count": 264,
     "metadata": {},
     "output_type": "execute_result"
    }
   ],
   "source": [
    "an['performance_score'].describe()"
   ]
  },
  {
   "cell_type": "markdown",
   "metadata": {},
   "source": [
    "- **La calcule de nombre des valeur nul :**"
   ]
  },
  {
   "cell_type": "code",
   "execution_count": 265,
   "metadata": {},
   "outputs": [
    {
     "data": {
      "text/plain": [
       "55"
      ]
     },
     "execution_count": 265,
     "metadata": {},
     "output_type": "execute_result"
    }
   ],
   "source": [
    "an['performance_score'].isnull().sum()"
   ]
  },
  {
   "cell_type": "markdown",
   "metadata": {},
   "source": [
    "- **La romplacement des valeurs nul pour la moyenne :** (Parce qu'il exsists pas des outliers)"
   ]
  },
  {
   "cell_type": "code",
   "execution_count": 266,
   "metadata": {},
   "outputs": [
    {
     "name": "stderr",
     "output_type": "stream",
     "text": [
      "C:\\Users\\ACH\\AppData\\Local\\Temp\\ipykernel_11372\\4140635466.py:1: FutureWarning: A value is trying to be set on a copy of a DataFrame or Series through chained assignment using an inplace method.\n",
      "The behavior will change in pandas 3.0. This inplace method will never work because the intermediate object on which we are setting values always behaves as a copy.\n",
      "\n",
      "For example, when doing 'df[col].method(value, inplace=True)', try using 'df.method({col: value}, inplace=True)' or df[col] = df[col].method(value) instead, to perform the operation inplace on the original object.\n",
      "\n",
      "\n",
      "  an['performance_score'].fillna(an['performance_score'].mean() , inplace= True)\n",
      "C:\\Users\\ACH\\AppData\\Local\\Temp\\ipykernel_11372\\4140635466.py:1: SettingWithCopyWarning: \n",
      "A value is trying to be set on a copy of a slice from a DataFrame\n",
      "\n",
      "See the caveats in the documentation: https://pandas.pydata.org/pandas-docs/stable/user_guide/indexing.html#returning-a-view-versus-a-copy\n",
      "  an['performance_score'].fillna(an['performance_score'].mean() , inplace= True)\n"
     ]
    }
   ],
   "source": [
    "an['performance_score'].fillna(an['performance_score'].mean() , inplace= True)"
   ]
  },
  {
   "cell_type": "markdown",
   "metadata": {},
   "source": [
    "- **La detections des outliers :**"
   ]
  },
  {
   "cell_type": "code",
   "execution_count": 267,
   "metadata": {},
   "outputs": [
    {
     "name": "stdout",
     "output_type": "stream",
     "text": [
      "Series([], Name: performance_score, dtype: float64)\n"
     ]
    }
   ],
   "source": [
    "print(detect_outliers(an , 'performance_score'))"
   ]
  },
  {
   "cell_type": "markdown",
   "metadata": {},
   "source": [
    "**=> N'exsists pas des outliers**"
   ]
  },
  {
   "cell_type": "markdown",
   "metadata": {},
   "source": [
    "## Colonne : ***education***"
   ]
  },
  {
   "cell_type": "markdown",
   "metadata": {},
   "source": [
    "- **L'affichage des valeurs unique dans cet colonne :**"
   ]
  },
  {
   "cell_type": "code",
   "execution_count": 268,
   "metadata": {},
   "outputs": [
    {
     "data": {
      "text/plain": [
       "array([\"BACHELOR'S\", 'Associate', 'PhD', \"Master's\", 'High School',\n",
       "       \"Bachelor's\", nan, \"MASTER'S\", 'PHD', 'HIGH SCHOOL', 'ASSOCIATE'],\n",
       "      dtype=object)"
      ]
     },
     "execution_count": 268,
     "metadata": {},
     "output_type": "execute_result"
    }
   ],
   "source": [
    "an['education'].unique()"
   ]
  },
  {
   "cell_type": "markdown",
   "metadata": {},
   "source": [
    "- **La transformation de toute les valeurs de cet colonne en miniscule :**"
   ]
  },
  {
   "cell_type": "code",
   "execution_count": 269,
   "metadata": {},
   "outputs": [
    {
     "name": "stderr",
     "output_type": "stream",
     "text": [
      "C:\\Users\\ACH\\AppData\\Local\\Temp\\ipykernel_11372\\4003829907.py:1: SettingWithCopyWarning: \n",
      "A value is trying to be set on a copy of a slice from a DataFrame.\n",
      "Try using .loc[row_indexer,col_indexer] = value instead\n",
      "\n",
      "See the caveats in the documentation: https://pandas.pydata.org/pandas-docs/stable/user_guide/indexing.html#returning-a-view-versus-a-copy\n",
      "  an['education'] = an['education'].str.lower()\n"
     ]
    }
   ],
   "source": [
    "an['education'] = an['education'].str.lower()"
   ]
  },
  {
   "cell_type": "markdown",
   "metadata": {},
   "source": [
    "- **La verification :**"
   ]
  },
  {
   "cell_type": "code",
   "execution_count": 270,
   "metadata": {},
   "outputs": [
    {
     "data": {
      "text/plain": [
       "array([\"bachelor's\", 'associate', 'phd', \"master's\", 'high school', nan],\n",
       "      dtype=object)"
      ]
     },
     "execution_count": 270,
     "metadata": {},
     "output_type": "execute_result"
    }
   ],
   "source": [
    "an['education'].unique()"
   ]
  },
  {
   "cell_type": "markdown",
   "metadata": {},
   "source": [
    "- **La destributions des valeurs dans cet colonne :**"
   ]
  },
  {
   "cell_type": "code",
   "execution_count": 271,
   "metadata": {},
   "outputs": [
    {
     "data": {
      "text/plain": [
       "education\n",
       "master's       265\n",
       "associate      233\n",
       "bachelor's     224\n",
       "high school    224\n",
       "phd            202\n",
       "Name: count, dtype: int64"
      ]
     },
     "execution_count": 271,
     "metadata": {},
     "output_type": "execute_result"
    }
   ],
   "source": [
    "an['education'].value_counts()"
   ]
  },
  {
   "cell_type": "markdown",
   "metadata": {},
   "source": [
    "- **Le nombres des valeurs nul dans ce colonne :**"
   ]
  },
  {
   "cell_type": "code",
   "execution_count": 272,
   "metadata": {},
   "outputs": [
    {
     "data": {
      "text/plain": [
       "53"
      ]
     },
     "execution_count": 272,
     "metadata": {},
     "output_type": "execute_result"
    }
   ],
   "source": [
    "an['education'].isnull().sum()"
   ]
  },
  {
   "cell_type": "markdown",
   "metadata": {},
   "source": [
    "- **La remplissage des valeurs nul pour le terme 'unknown' :** (Parce que les categorie dans ce colonne est plus proche entre eux)"
   ]
  },
  {
   "cell_type": "code",
   "execution_count": 273,
   "metadata": {},
   "outputs": [
    {
     "name": "stderr",
     "output_type": "stream",
     "text": [
      "C:\\Users\\ACH\\AppData\\Local\\Temp\\ipykernel_11372\\155752616.py:1: FutureWarning: A value is trying to be set on a copy of a DataFrame or Series through chained assignment using an inplace method.\n",
      "The behavior will change in pandas 3.0. This inplace method will never work because the intermediate object on which we are setting values always behaves as a copy.\n",
      "\n",
      "For example, when doing 'df[col].method(value, inplace=True)', try using 'df.method({col: value}, inplace=True)' or df[col] = df[col].method(value) instead, to perform the operation inplace on the original object.\n",
      "\n",
      "\n",
      "  an['education'].fillna('unknown' , inplace= True)\n",
      "C:\\Users\\ACH\\AppData\\Local\\Temp\\ipykernel_11372\\155752616.py:1: SettingWithCopyWarning: \n",
      "A value is trying to be set on a copy of a slice from a DataFrame\n",
      "\n",
      "See the caveats in the documentation: https://pandas.pydata.org/pandas-docs/stable/user_guide/indexing.html#returning-a-view-versus-a-copy\n",
      "  an['education'].fillna('unknown' , inplace= True)\n"
     ]
    }
   ],
   "source": [
    "an['education'].fillna('unknown' , inplace= True)"
   ]
  },
  {
   "cell_type": "markdown",
   "metadata": {},
   "source": [
    "- **la virifications :**"
   ]
  },
  {
   "cell_type": "code",
   "execution_count": 274,
   "metadata": {},
   "outputs": [
    {
     "data": {
      "text/plain": [
       "0"
      ]
     },
     "execution_count": 274,
     "metadata": {},
     "output_type": "execute_result"
    }
   ],
   "source": [
    "an['education'].isnull().sum()"
   ]
  },
  {
   "cell_type": "code",
   "execution_count": 275,
   "metadata": {},
   "outputs": [
    {
     "data": {
      "text/plain": [
       "education\n",
       "master's       265\n",
       "associate      233\n",
       "bachelor's     224\n",
       "high school    224\n",
       "phd            202\n",
       "unknown         53\n",
       "Name: count, dtype: int64"
      ]
     },
     "execution_count": 275,
     "metadata": {},
     "output_type": "execute_result"
    }
   ],
   "source": [
    "an['education'].value_counts()"
   ]
  },
  {
   "cell_type": "markdown",
   "metadata": {},
   "source": [
    "## Colonne : ***Email***"
   ]
  },
  {
   "cell_type": "code",
   "execution_count": 276,
   "metadata": {},
   "outputs": [
    {
     "data": {
      "text/plain": [
       "array(['emma.lopez@company.com', 'ava.williams@company.com',\n",
       "       'charlotte.miller@company.com', 'daniel.johnson@company.com',\n",
       "       'william.williams@company.com', 'williambrowncompany.com',\n",
       "       'emma.garcia@company.com', 'sophia.gonzalez@company.com',\n",
       "       'mia.davis@company.com', 'alexander.martinez@ company.com',\n",
       "       'alexander.martinez@company.com', 'oliviamillercompany.com',\n",
       "       'david.brown@company.com', 'alexander.johnson@company.com',\n",
       "       'sophia.brown@company.com', 'daniel.garcia@company.com',\n",
       "       'david.williams@company.com', 'john.garcia@company.com',\n",
       "       'emma.jones@ company.com', 'joseph.jones@company.com',\n",
       "       'john.johnson@company.com', 'ava.davis@company.com',\n",
       "       'alexander.jones@company.com', 'isabella.hernandez@company.com',\n",
       "       'mia.johnson@company.com', 'olivia.miller@company.com',\n",
       "       'emma.gonzalez@company.com', 'olivia.rodriguez@company.com',\n",
       "       'alexander.rodriguez@company.com', 'michael.miller@company.com',\n",
       "       'emma.garcia@ company.com', 'david.smith@company.com',\n",
       "       'william.johnson@company.com', 'emma.brown@company.com',\n",
       "       'james.johnson@ company.com', 'david.davis@company.com',\n",
       "       'isabella.johnson@company.com', 'daniel.williams@company.com',\n",
       "       'alexander.brown@company.com', 'jamesrodriguezcompany.com',\n",
       "       'mia.martinez@company.com', 'william.smith@company.com',\n",
       "       'daniel.davis@company.com', 'sophia.lopez@company.com',\n",
       "       'mia.jones@company.com', 'sophia.miller@company.com',\n",
       "       'isabella.jones@ company.com', 'isabella.martinez@company.com',\n",
       "       'joseph.hernandez@company.com', 'isabella.davis@company.com',\n",
       "       'charlotterodriguezcompany.com', 'isabella.williams@company.com',\n",
       "       'isabella.smith@company.com', 'william.jones@company.com',\n",
       "       'charlotte.hernandez@company.com', 'emma.smith@company.com',\n",
       "       'joseph.davis@company.com', 'david.johnson@company.com',\n",
       "       'alexander.smith@company.com', 'james.johnson@company.com',\n",
       "       'isabellagonzalezcompany.com', 'ava.jones@company.com',\n",
       "       'oliviarodriguezcompany.com', 'olivia.johnson@company.com',\n",
       "       'james.williams@company.com', 'alexander.miller@company.com',\n",
       "       'david.hernandez@company.com', 'joseph.smith@company.com',\n",
       "       'sophia.williams@company.com', 'james.smith@company.com',\n",
       "       'ava.brown@company.com', 'james.gonzalez@company.com',\n",
       "       'mia.smith@company.com', 'michael.smith@company.com',\n",
       "       'daniel.lopez@company.com', 'sophia.johnson@company.com',\n",
       "       'james.davis@company.com', 'ava.johnson@company.com',\n",
       "       'james.hernandez@company.com', 'alexander.hernandez@company.com',\n",
       "       'david.martinez@company.com', 'joseph.martinez@company.com',\n",
       "       'olivia.garcia@company.com', 'john.lopez@company.com',\n",
       "       'john.hernandez@company.com', 'olivia.brown@company.com',\n",
       "       'emma.williams@ company.com', 'charlotte.smith@company.com',\n",
       "       'ava.hernandez@company.com', 'john.williams@company.com',\n",
       "       'joseph.lopez@company.com', 'mia.gonzalez@company.com',\n",
       "       'emma.martinez@company.com', 'charlotte.williams@company.com',\n",
       "       'james.hernandez@ company.com', 'william.davis@company.com',\n",
       "       'ava.lopez@company.com', 'mia.miller@company.com',\n",
       "       'mia.hernandez@company.com', 'james.miller@company.com',\n",
       "       'charlotte.martinez@company.com', 'sophia.martinez@company.com',\n",
       "       'emmahernandezcompany.com', 'michael.garcia@company.com',\n",
       "       'johnwilliamscompany.com', 'james.garcia@company.com',\n",
       "       'james.martinez@company.com', 'charlotte.davis@company.com',\n",
       "       'emma.johnson@company.com', 'ava.martinez@company.com',\n",
       "       'emma.jones@company.com', 'daniel.martinez@company.com',\n",
       "       'james.lopez@company.com', 'david.lopez@company.com',\n",
       "       'olivia.smith@ company.com', 'emma.williams@company.com',\n",
       "       'alexander.lopez@ company.com', 'isabella.brown@company.com',\n",
       "       'charlotte.lopez@company.com', 'charlotte.johnson@company.com',\n",
       "       'sophia.smith@company.com', 'isabella.jones@company.com',\n",
       "       'john.smith@company.com', 'joseph.gonzalez@company.com',\n",
       "       'isabella.rodriguez@company.com', 'joseph.lopez@ company.com',\n",
       "       'david.gonzalez@company.com', 'ava.gonzalez@company.com',\n",
       "       'daniel.miller@company.com', 'john.brown@company.com',\n",
       "       'alexander.williams@company.com', 'william.miller@company.com',\n",
       "       'emma.rodriguez@company.com', 'alexandermillercompany.com',\n",
       "       'alexander.davis@company.com', 'michael.davis@company.com',\n",
       "       'joseph.johnson@company.com', 'ava.rodriguez@company.com',\n",
       "       'david.garcia@ company.com', 'sophia.hernandez@ company.com',\n",
       "       'michael.brown@company.com', 'john.jones@company.com',\n",
       "       'william.martinez@company.com', 'joseph.jones@ company.com',\n",
       "       'charlotte.miller@ company.com', 'david.rodriguez@company.com',\n",
       "       'john.rodriguez@company.com', 'isabella.brown@ company.com',\n",
       "       'joseph.brown@company.com', 'ava.garcia@company.com',\n",
       "       'williamhernandezcompany.com', 'josephjonescompany.com',\n",
       "       'william.hernandez@company.com', 'charlotte.garcia@company.com',\n",
       "       'michael.johnson@company.com', 'william.gonzalez@company.com',\n",
       "       'john.davis@company.com', 'william.brown@company.com',\n",
       "       'michael.lopez@company.com', 'mia.brown@company.com',\n",
       "       'james.rodriguez@company.com', 'john.miller@company.com',\n",
       "       'john.gonzalez@company.com', 'daniel.garcia@ company.com',\n",
       "       'mia.williams@company.com', 'michael.jones@company.com',\n",
       "       'danielwilliamscompany.com', 'daniel.smith@company.com',\n",
       "       'sophia.davis@company.com', 'joseph.williams@company.com',\n",
       "       'isabella.miller@ company.com', 'michaeljohnsoncompany.com',\n",
       "       'alexander.gonzalez@company.com', 'davidmartinezcompany.com',\n",
       "       'david.miller@company.com', 'william.lopez@company.com',\n",
       "       'isabella.johnson@ company.com', 'olivia.gonzalez@company.com',\n",
       "       'josephsmithcompany.com', 'daniel.brown@company.com',\n",
       "       'william.rodriguez@company.com', 'john.martinez@company.com',\n",
       "       'isabella.gonzalez@company.com', 'olivia.martinez@company.com',\n",
       "       'miahernandezcompany.com', 'olivia.lopez@company.com',\n",
       "       'mia.lopez@ company.com', 'michaelgarciacompany.com',\n",
       "       'michael.smith@ company.com', 'michael.williams@company.com',\n",
       "       'oliviamartinezcompany.com', 'michael.gonzalez@company.com',\n",
       "       'ava.miller@company.com', 'sophia.rodriguez@company.com',\n",
       "       'sophia.hernandez@company.com', 'michael.rodriguez@company.com',\n",
       "       'alexander.smith@ company.com', 'alexander.lopez@company.com',\n",
       "       'william.garcia@company.com', 'danielmartinezcompany.com',\n",
       "       'emma.miller@company.com', 'olivia.williams@company.com',\n",
       "       'sophialopezcompany.com', 'william.smith@ company.com',\n",
       "       'daniel.hernandez@company.com', 'emma.davis@company.com',\n",
       "       'josephdaviscompany.com', 'oliviawilliamscompany.com',\n",
       "       'sophia.garcia@ company.com', 'mia.davis@ company.com',\n",
       "       'isabellawilliamscompany.com', 'joseph.miller@company.com',\n",
       "       'mia.rodriguez@company.com', 'charlotte.jones@company.com',\n",
       "       'joseph.rodriguez@company.com', 'sophia.garcia@company.com',\n",
       "       'mia.hernandez@ company.com', 'michael.martinez@company.com',\n",
       "       'isabella.garcia@company.com', 'daniel.jones@company.com',\n",
       "       'james.brown@company.com', 'sophiadaviscompany.com',\n",
       "       'williamgonzalezcompany.com', 'james.garcia@ company.com',\n",
       "       'david.johnson@ company.com', 'mia.garcia@company.com',\n",
       "       'charlotte.rodriguez@company.com', 'emma.hernandez@company.com',\n",
       "       'michael.hernandez@company.com', 'jamesgarciacompany.com',\n",
       "       'oliviadaviscompany.com', 'emmalopezcompany.com',\n",
       "       'isabella.miller@company.com', 'charlotte.gonzalez@company.com',\n",
       "       'david.garcia@company.com', 'olivia.garcia@ company.com',\n",
       "       'olivia.smith@company.com', 'james.williams@ company.com',\n",
       "       'olivia.gonzalez@ company.com', 'david.smith@ company.com',\n",
       "       'avahernandezcompany.com', 'ava.smith@company.com',\n",
       "       'alexanderjohnsoncompany.com', 'william.johnson@ company.com',\n",
       "       'danielgonzalezcompany.com', 'david.jones@company.com',\n",
       "       'james.jones@company.com', 'isabellamillercompany.com',\n",
       "       'daniel.gonzalez@company.com', 'charlotte.brown@company.com',\n",
       "       'sophia.jones@company.com', 'alexander.miller@ company.com',\n",
       "       'olivia.jones@company.com', 'olivia.davis@company.com',\n",
       "       'john.smith@ company.com', 'joseph.garcia@company.com',\n",
       "       'isabellagarciacompany.com', 'charlotte.hernandez@ company.com',\n",
       "       'john.hernandez@ company.com', 'mia.lopez@company.com',\n",
       "       'sophiasmithcompany.com', 'charlottesmithcompany.com',\n",
       "       'daniel.williams@ company.com', 'williamsmithcompany.com',\n",
       "       'jameswilliamscompany.com', 'charlottejohnsoncompany.com',\n",
       "       'sophiarodriguezcompany.com', 'sophiabrowncompany.com',\n",
       "       'alexander.garcia@company.com', 'david.jones@ company.com',\n",
       "       'avamillercompany.com', 'williamdaviscompany.com',\n",
       "       'william.hernandez@ company.com', 'charlottehernandezcompany.com',\n",
       "       'charlotte.smith@ company.com', 'johnlopezcompany.com',\n",
       "       'michaelwilliamscompany.com', 'alexanderwilliamscompany.com',\n",
       "       'olivia.hernandez@company.com', 'isabella.lopez@company.com',\n",
       "       'daniel.rodriguez@company.com', 'sophia.davis@ company.com',\n",
       "       'williamgarciacompany.com', 'miamillercompany.com',\n",
       "       'emmadaviscompany.com', 'johnjonescompany.com',\n",
       "       'avabrowncompany.com', 'jamesjonescompany.com',\n",
       "       'johnjohnsoncompany.com', 'olivia.jones@ company.com',\n",
       "       'charlottelopezcompany.com', 'james.miller@ company.com',\n",
       "       'sophiamartinezcompany.com', 'charlottegonzalezcompany.com'],\n",
       "      dtype=object)"
      ]
     },
     "execution_count": 276,
     "metadata": {},
     "output_type": "execute_result"
    }
   ],
   "source": [
    "an['email'].unique()"
   ]
  },
  {
   "cell_type": "markdown",
   "metadata": {},
   "source": [
    "**=> On remarque qu'ils exests des emails contients des erreurs d'ecriture !!**"
   ]
  },
  {
   "cell_type": "markdown",
   "metadata": {},
   "source": [
    "- **La validations des emails :**"
   ]
  },
  {
   "cell_type": "code",
   "execution_count": 277,
   "metadata": {},
   "outputs": [
    {
     "name": "stderr",
     "output_type": "stream",
     "text": [
      "C:\\Users\\ACH\\AppData\\Local\\Temp\\ipykernel_11372\\2247235087.py:7: SettingWithCopyWarning: \n",
      "A value is trying to be set on a copy of a slice from a DataFrame.\n",
      "Try using .loc[row_indexer,col_indexer] = value instead\n",
      "\n",
      "See the caveats in the documentation: https://pandas.pydata.org/pandas-docs/stable/user_guide/indexing.html#returning-a-view-versus-a-copy\n",
      "  an['email'] = an['email'].apply(validation)\n"
     ]
    }
   ],
   "source": [
    "import re\n",
    "\n",
    "def validation(email):\n",
    "    email = str(email).strip()  \n",
    "    return email if re.match(r'^[\\w.-]+@[a-zA-Z\\d.-]+\\.[a-zA-Z]{2,}$', email) else None\n",
    "\n",
    "an['email'] = an['email'].apply(validation)\n",
    "\n",
    "an = an.dropna(subset=['email'])"
   ]
  },
  {
   "cell_type": "code",
   "execution_count": 278,
   "metadata": {},
   "outputs": [
    {
     "data": {
      "text/plain": [
       "array(['emma.lopez@company.com', 'ava.williams@company.com',\n",
       "       'charlotte.miller@company.com', 'daniel.johnson@company.com',\n",
       "       'william.williams@company.com', 'emma.garcia@company.com',\n",
       "       'sophia.gonzalez@company.com', 'mia.davis@company.com',\n",
       "       'alexander.martinez@company.com', 'david.brown@company.com',\n",
       "       'alexander.johnson@company.com', 'sophia.brown@company.com',\n",
       "       'daniel.garcia@company.com', 'david.williams@company.com',\n",
       "       'john.garcia@company.com', 'joseph.jones@company.com',\n",
       "       'john.johnson@company.com', 'ava.davis@company.com',\n",
       "       'alexander.jones@company.com', 'isabella.hernandez@company.com',\n",
       "       'mia.johnson@company.com', 'olivia.miller@company.com',\n",
       "       'emma.gonzalez@company.com', 'olivia.rodriguez@company.com',\n",
       "       'alexander.rodriguez@company.com', 'michael.miller@company.com',\n",
       "       'david.smith@company.com', 'william.johnson@company.com',\n",
       "       'emma.brown@company.com', 'david.davis@company.com',\n",
       "       'isabella.johnson@company.com', 'daniel.williams@company.com',\n",
       "       'alexander.brown@company.com', 'mia.martinez@company.com',\n",
       "       'william.smith@company.com', 'daniel.davis@company.com',\n",
       "       'sophia.lopez@company.com', 'mia.jones@company.com',\n",
       "       'sophia.miller@company.com', 'isabella.martinez@company.com',\n",
       "       'joseph.hernandez@company.com', 'isabella.davis@company.com',\n",
       "       'isabella.williams@company.com', 'isabella.smith@company.com',\n",
       "       'william.jones@company.com', 'charlotte.hernandez@company.com',\n",
       "       'emma.smith@company.com', 'joseph.davis@company.com',\n",
       "       'david.johnson@company.com', 'alexander.smith@company.com',\n",
       "       'james.johnson@company.com', 'ava.jones@company.com',\n",
       "       'olivia.johnson@company.com', 'james.williams@company.com',\n",
       "       'alexander.miller@company.com', 'david.hernandez@company.com',\n",
       "       'joseph.smith@company.com', 'sophia.williams@company.com',\n",
       "       'james.smith@company.com', 'ava.brown@company.com',\n",
       "       'james.gonzalez@company.com', 'mia.smith@company.com',\n",
       "       'michael.smith@company.com', 'daniel.lopez@company.com',\n",
       "       'sophia.johnson@company.com', 'james.davis@company.com',\n",
       "       'ava.johnson@company.com', 'james.hernandez@company.com',\n",
       "       'alexander.hernandez@company.com', 'david.martinez@company.com',\n",
       "       'joseph.martinez@company.com', 'olivia.garcia@company.com',\n",
       "       'john.lopez@company.com', 'john.hernandez@company.com',\n",
       "       'olivia.brown@company.com', 'charlotte.smith@company.com',\n",
       "       'ava.hernandez@company.com', 'john.williams@company.com',\n",
       "       'joseph.lopez@company.com', 'mia.gonzalez@company.com',\n",
       "       'emma.martinez@company.com', 'charlotte.williams@company.com',\n",
       "       'william.davis@company.com', 'ava.lopez@company.com',\n",
       "       'mia.miller@company.com', 'mia.hernandez@company.com',\n",
       "       'james.miller@company.com', 'charlotte.martinez@company.com',\n",
       "       'sophia.martinez@company.com', 'michael.garcia@company.com',\n",
       "       'james.garcia@company.com', 'james.martinez@company.com',\n",
       "       'charlotte.davis@company.com', 'emma.johnson@company.com',\n",
       "       'ava.martinez@company.com', 'emma.jones@company.com',\n",
       "       'daniel.martinez@company.com', 'james.lopez@company.com',\n",
       "       'david.lopez@company.com', 'emma.williams@company.com',\n",
       "       'isabella.brown@company.com', 'charlotte.lopez@company.com',\n",
       "       'charlotte.johnson@company.com', 'sophia.smith@company.com',\n",
       "       'isabella.jones@company.com', 'john.smith@company.com',\n",
       "       'joseph.gonzalez@company.com', 'isabella.rodriguez@company.com',\n",
       "       'david.gonzalez@company.com', 'ava.gonzalez@company.com',\n",
       "       'daniel.miller@company.com', 'john.brown@company.com',\n",
       "       'alexander.williams@company.com', 'william.miller@company.com',\n",
       "       'emma.rodriguez@company.com', 'alexander.davis@company.com',\n",
       "       'michael.davis@company.com', 'joseph.johnson@company.com',\n",
       "       'ava.rodriguez@company.com', 'michael.brown@company.com',\n",
       "       'john.jones@company.com', 'william.martinez@company.com',\n",
       "       'david.rodriguez@company.com', 'john.rodriguez@company.com',\n",
       "       'joseph.brown@company.com', 'ava.garcia@company.com',\n",
       "       'william.hernandez@company.com', 'charlotte.garcia@company.com',\n",
       "       'michael.johnson@company.com', 'william.gonzalez@company.com',\n",
       "       'john.davis@company.com', 'william.brown@company.com',\n",
       "       'michael.lopez@company.com', 'mia.brown@company.com',\n",
       "       'james.rodriguez@company.com', 'john.miller@company.com',\n",
       "       'john.gonzalez@company.com', 'mia.williams@company.com',\n",
       "       'michael.jones@company.com', 'daniel.smith@company.com',\n",
       "       'sophia.davis@company.com', 'joseph.williams@company.com',\n",
       "       'alexander.gonzalez@company.com', 'david.miller@company.com',\n",
       "       'william.lopez@company.com', 'olivia.gonzalez@company.com',\n",
       "       'daniel.brown@company.com', 'william.rodriguez@company.com',\n",
       "       'john.martinez@company.com', 'isabella.gonzalez@company.com',\n",
       "       'olivia.martinez@company.com', 'olivia.lopez@company.com',\n",
       "       'michael.williams@company.com', 'michael.gonzalez@company.com',\n",
       "       'ava.miller@company.com', 'sophia.rodriguez@company.com',\n",
       "       'sophia.hernandez@company.com', 'michael.rodriguez@company.com',\n",
       "       'alexander.lopez@company.com', 'william.garcia@company.com',\n",
       "       'emma.miller@company.com', 'olivia.williams@company.com',\n",
       "       'daniel.hernandez@company.com', 'emma.davis@company.com',\n",
       "       'joseph.miller@company.com', 'mia.rodriguez@company.com',\n",
       "       'charlotte.jones@company.com', 'joseph.rodriguez@company.com',\n",
       "       'sophia.garcia@company.com', 'michael.martinez@company.com',\n",
       "       'isabella.garcia@company.com', 'daniel.jones@company.com',\n",
       "       'james.brown@company.com', 'mia.garcia@company.com',\n",
       "       'charlotte.rodriguez@company.com', 'emma.hernandez@company.com',\n",
       "       'michael.hernandez@company.com', 'isabella.miller@company.com',\n",
       "       'charlotte.gonzalez@company.com', 'david.garcia@company.com',\n",
       "       'olivia.smith@company.com', 'ava.smith@company.com',\n",
       "       'david.jones@company.com', 'james.jones@company.com',\n",
       "       'daniel.gonzalez@company.com', 'charlotte.brown@company.com',\n",
       "       'sophia.jones@company.com', 'olivia.jones@company.com',\n",
       "       'olivia.davis@company.com', 'joseph.garcia@company.com',\n",
       "       'mia.lopez@company.com', 'alexander.garcia@company.com',\n",
       "       'olivia.hernandez@company.com', 'isabella.lopez@company.com',\n",
       "       'daniel.rodriguez@company.com'], dtype=object)"
      ]
     },
     "execution_count": 278,
     "metadata": {},
     "output_type": "execute_result"
    }
   ],
   "source": [
    "an['email'].unique()"
   ]
  },
  {
   "cell_type": "markdown",
   "metadata": {},
   "source": [
    "**=> La colonne email ne contient pas des valeurs nulles**"
   ]
  },
  {
   "cell_type": "markdown",
   "metadata": {},
   "source": [
    "## Colonne : ***Location***"
   ]
  },
  {
   "cell_type": "markdown",
   "metadata": {},
   "source": [
    "- **Le nombres des valeurs nulles :**"
   ]
  },
  {
   "cell_type": "code",
   "execution_count": 279,
   "metadata": {},
   "outputs": [
    {
     "data": {
      "text/plain": [
       "61"
      ]
     },
     "execution_count": 279,
     "metadata": {},
     "output_type": "execute_result"
    }
   ],
   "source": [
    "an['location'].isnull().sum()"
   ]
  },
  {
   "cell_type": "markdown",
   "metadata": {},
   "source": [
    "- **La distribution des valeurs de cet colonne :**"
   ]
  },
  {
   "cell_type": "code",
   "execution_count": 280,
   "metadata": {},
   "outputs": [
    {
     "data": {
      "text/plain": [
       "location\n",
       "San Francisco    201\n",
       "Chicago          186\n",
       "Seattle          171\n",
       "Remote           167\n",
       "Austin           152\n",
       "New York         152\n",
       "Name: count, dtype: int64"
      ]
     },
     "execution_count": 280,
     "metadata": {},
     "output_type": "execute_result"
    }
   ],
   "source": [
    "an['location'].value_counts()"
   ]
  },
  {
   "cell_type": "markdown",
   "metadata": {},
   "source": [
    "- **La remplissage des valeurs nulles de terme 'autre' :**"
   ]
  },
  {
   "cell_type": "code",
   "execution_count": 281,
   "metadata": {},
   "outputs": [
    {
     "name": "stderr",
     "output_type": "stream",
     "text": [
      "C:\\Users\\ACH\\AppData\\Local\\Temp\\ipykernel_11372\\830318873.py:1: FutureWarning: A value is trying to be set on a copy of a DataFrame or Series through chained assignment using an inplace method.\n",
      "The behavior will change in pandas 3.0. This inplace method will never work because the intermediate object on which we are setting values always behaves as a copy.\n",
      "\n",
      "For example, when doing 'df[col].method(value, inplace=True)', try using 'df.method({col: value}, inplace=True)' or df[col] = df[col].method(value) instead, to perform the operation inplace on the original object.\n",
      "\n",
      "\n",
      "  an['location'].fillna('autre' , inplace= True)\n"
     ]
    }
   ],
   "source": [
    "an['location'].fillna('autre' , inplace= True)"
   ]
  },
  {
   "cell_type": "markdown",
   "metadata": {},
   "source": [
    "## Colonne : ***training completed***"
   ]
  },
  {
   "cell_type": "markdown",
   "metadata": {},
   "source": [
    "- **Le nombre des valeurs nulles :**"
   ]
  },
  {
   "cell_type": "code",
   "execution_count": 282,
   "metadata": {},
   "outputs": [
    {
     "data": {
      "text/plain": [
       "43"
      ]
     },
     "execution_count": 282,
     "metadata": {},
     "output_type": "execute_result"
    }
   ],
   "source": [
    "an['training_completed'].isnull().sum()"
   ]
  },
  {
   "cell_type": "markdown",
   "metadata": {},
   "source": [
    "- **La destrubitios de chaque valeurs :**"
   ]
  },
  {
   "cell_type": "code",
   "execution_count": 283,
   "metadata": {},
   "outputs": [
    {
     "data": {
      "text/plain": [
       "training_completed\n",
       "Yes            393\n",
       "In Progress    353\n",
       "No             301\n",
       "Name: count, dtype: int64"
      ]
     },
     "execution_count": 283,
     "metadata": {},
     "output_type": "execute_result"
    }
   ],
   "source": [
    "an['training_completed'].value_counts()"
   ]
  },
  {
   "cell_type": "markdown",
   "metadata": {},
   "source": [
    "- **Aussi la remplassement par le terme 'unconnue' :**"
   ]
  },
  {
   "cell_type": "code",
   "execution_count": 284,
   "metadata": {},
   "outputs": [
    {
     "name": "stderr",
     "output_type": "stream",
     "text": [
      "C:\\Users\\ACH\\AppData\\Local\\Temp\\ipykernel_11372\\258425045.py:1: FutureWarning: A value is trying to be set on a copy of a DataFrame or Series through chained assignment using an inplace method.\n",
      "The behavior will change in pandas 3.0. This inplace method will never work because the intermediate object on which we are setting values always behaves as a copy.\n",
      "\n",
      "For example, when doing 'df[col].method(value, inplace=True)', try using 'df.method({col: value}, inplace=True)' or df[col] = df[col].method(value) instead, to perform the operation inplace on the original object.\n",
      "\n",
      "\n",
      "  an['training_completed'].fillna('unconnue' , inplace= True)\n"
     ]
    }
   ],
   "source": [
    "an['training_completed'].fillna('unconnue' , inplace= True)"
   ]
  },
  {
   "cell_type": "markdown",
   "metadata": {},
   "source": [
    "- **La verification des changements :**"
   ]
  },
  {
   "cell_type": "code",
   "execution_count": 285,
   "metadata": {},
   "outputs": [
    {
     "data": {
      "text/plain": [
       "training_completed\n",
       "Yes            393\n",
       "In Progress    353\n",
       "No             301\n",
       "unconnue        43\n",
       "Name: count, dtype: int64"
      ]
     },
     "execution_count": 285,
     "metadata": {},
     "output_type": "execute_result"
    }
   ],
   "source": [
    "an['training_completed'].value_counts()"
   ]
  },
  {
   "cell_type": "markdown",
   "metadata": {},
   "source": [
    "## Colonne : ***last promotion date***"
   ]
  },
  {
   "cell_type": "markdown",
   "metadata": {},
   "source": [
    "- **La verification de type de cet colonne :**"
   ]
  },
  {
   "cell_type": "code",
   "execution_count": 286,
   "metadata": {},
   "outputs": [
    {
     "data": {
      "text/plain": [
       "dtype('O')"
      ]
     },
     "execution_count": 286,
     "metadata": {},
     "output_type": "execute_result"
    }
   ],
   "source": [
    "an['last_promotion_date'].dtype"
   ]
  },
  {
   "cell_type": "markdown",
   "metadata": {},
   "source": [
    "- **Le trancformation de type de colonne \"last_promotion_date\" to datetime :**"
   ]
  },
  {
   "cell_type": "code",
   "execution_count": 287,
   "metadata": {},
   "outputs": [],
   "source": [
    "an['last_promotion_date']= pd.to_datetime(an['last_promotion_date'])"
   ]
  },
  {
   "cell_type": "markdown",
   "metadata": {},
   "source": [
    "- **La verification de changement :**"
   ]
  },
  {
   "cell_type": "code",
   "execution_count": 288,
   "metadata": {},
   "outputs": [
    {
     "data": {
      "text/plain": [
       "employee_id                     int64\n",
       "hire_date              datetime64[ns]\n",
       "department                     object\n",
       "job_title                      object\n",
       "salary                        float64\n",
       "performance_score             float64\n",
       "education                      object\n",
       "email                          object\n",
       "location                       object\n",
       "age                             int64\n",
       "years_of_experience             int64\n",
       "training_completed             object\n",
       "last_promotion_date    datetime64[ns]\n",
       "projects_completed              int64\n",
       "satisfaction_score            float64\n",
       "bonus_percentage              float64\n",
       "first_name                     object\n",
       "last_name                      object\n",
       "dtype: object"
      ]
     },
     "execution_count": 288,
     "metadata": {},
     "output_type": "execute_result"
    }
   ],
   "source": [
    "an.dtypes"
   ]
  },
  {
   "cell_type": "markdown",
   "metadata": {},
   "source": [
    "## Colonne : ***satisfaction score***"
   ]
  },
  {
   "cell_type": "markdown",
   "metadata": {},
   "source": [
    "- **Les statistique de cet colonne :**"
   ]
  },
  {
   "cell_type": "code",
   "execution_count": 289,
   "metadata": {},
   "outputs": [
    {
     "data": {
      "text/plain": [
       "count    894.000000\n",
       "mean       3.088367\n",
       "std        1.420542\n",
       "min        1.000000\n",
       "25%        2.000000\n",
       "50%        3.000000\n",
       "75%        4.000000\n",
       "max        5.000000\n",
       "Name: satisfaction_score, dtype: float64"
      ]
     },
     "execution_count": 289,
     "metadata": {},
     "output_type": "execute_result"
    }
   ],
   "source": [
    "an['satisfaction_score'].describe()"
   ]
  },
  {
   "cell_type": "markdown",
   "metadata": {},
   "source": [
    "- **Nombre des valeurs nulles :**"
   ]
  },
  {
   "cell_type": "code",
   "execution_count": 290,
   "metadata": {},
   "outputs": [
    {
     "data": {
      "text/plain": [
       "196"
      ]
     },
     "execution_count": 290,
     "metadata": {},
     "output_type": "execute_result"
    }
   ],
   "source": [
    "an['satisfaction_score'].isnull().sum()"
   ]
  },
  {
   "cell_type": "markdown",
   "metadata": {},
   "source": [
    "- **La remplissage des valeurs nul par la moyenne :**"
   ]
  },
  {
   "cell_type": "code",
   "execution_count": 291,
   "metadata": {},
   "outputs": [
    {
     "name": "stderr",
     "output_type": "stream",
     "text": [
      "C:\\Users\\ACH\\AppData\\Local\\Temp\\ipykernel_11372\\3563279051.py:1: FutureWarning: A value is trying to be set on a copy of a DataFrame or Series through chained assignment using an inplace method.\n",
      "The behavior will change in pandas 3.0. This inplace method will never work because the intermediate object on which we are setting values always behaves as a copy.\n",
      "\n",
      "For example, when doing 'df[col].method(value, inplace=True)', try using 'df.method({col: value}, inplace=True)' or df[col] = df[col].method(value) instead, to perform the operation inplace on the original object.\n",
      "\n",
      "\n",
      "  an['satisfaction_score'].fillna(an['satisfaction_score'].mean() , inplace= True)\n"
     ]
    }
   ],
   "source": [
    "an['satisfaction_score'].fillna(an['satisfaction_score'].mean() , inplace= True)"
   ]
  },
  {
   "cell_type": "markdown",
   "metadata": {},
   "source": [
    "- **La verifications :**"
   ]
  },
  {
   "cell_type": "code",
   "execution_count": 292,
   "metadata": {},
   "outputs": [
    {
     "data": {
      "text/plain": [
       "0"
      ]
     },
     "execution_count": 292,
     "metadata": {},
     "output_type": "execute_result"
    }
   ],
   "source": [
    "an['satisfaction_score'].isnull().sum()"
   ]
  },
  {
   "cell_type": "markdown",
   "metadata": {},
   "source": [
    "- **La detections des outliers :**"
   ]
  },
  {
   "cell_type": "code",
   "execution_count": 293,
   "metadata": {},
   "outputs": [
    {
     "name": "stdout",
     "output_type": "stream",
     "text": [
      "Series([], Name: satisfaction_score, dtype: float64)\n"
     ]
    }
   ],
   "source": [
    "print(detect_outliers(an , 'satisfaction_score'))"
   ]
  },
  {
   "cell_type": "markdown",
   "metadata": {},
   "source": [
    "**=> N'exsists pas des outliers**"
   ]
  },
  {
   "cell_type": "markdown",
   "metadata": {},
   "source": [
    "## Colonne : ***bonus_percentage***"
   ]
  },
  {
   "cell_type": "markdown",
   "metadata": {},
   "source": [
    "- **La detection des outliers :** (les valeurs manquants)"
   ]
  },
  {
   "cell_type": "code",
   "execution_count": 294,
   "metadata": {},
   "outputs": [
    {
     "name": "stdout",
     "output_type": "stream",
     "text": [
      "Series([], Name: bonus_percentage, dtype: float64)\n"
     ]
    }
   ],
   "source": [
    "print(detect_outliers(an, 'bonus_percentage'))"
   ]
  },
  {
   "cell_type": "markdown",
   "metadata": {},
   "source": [
    "**=> Aussi n'exsists pas des outliers**"
   ]
  },
  {
   "cell_type": "markdown",
   "metadata": {},
   "source": [
    "## **Le resultat finale :**"
   ]
  },
  {
   "cell_type": "code",
   "execution_count": 295,
   "metadata": {},
   "outputs": [
    {
     "name": "stdout",
     "output_type": "stream",
     "text": [
      "<class 'pandas.core.frame.DataFrame'>\n",
      "Index: 1090 entries, 0 to 1249\n",
      "Data columns (total 18 columns):\n",
      " #   Column               Non-Null Count  Dtype         \n",
      "---  ------               --------------  -----         \n",
      " 0   employee_id          1090 non-null   int64         \n",
      " 1   hire_date            1090 non-null   datetime64[ns]\n",
      " 2   department           1090 non-null   object        \n",
      " 3   job_title            1090 non-null   object        \n",
      " 4   salary               1090 non-null   float64       \n",
      " 5   performance_score    1090 non-null   float64       \n",
      " 6   education            1090 non-null   object        \n",
      " 7   email                1090 non-null   object        \n",
      " 8   location             1090 non-null   object        \n",
      " 9   age                  1090 non-null   int64         \n",
      " 10  years_of_experience  1090 non-null   int64         \n",
      " 11  training_completed   1090 non-null   object        \n",
      " 12  last_promotion_date  1090 non-null   datetime64[ns]\n",
      " 13  projects_completed   1090 non-null   int64         \n",
      " 14  satisfaction_score   1090 non-null   float64       \n",
      " 15  bonus_percentage     1090 non-null   float64       \n",
      " 16  first_name           1090 non-null   object        \n",
      " 17  last_name            1090 non-null   object        \n",
      "dtypes: datetime64[ns](2), float64(4), int64(4), object(8)\n",
      "memory usage: 161.8+ KB\n"
     ]
    }
   ],
   "source": [
    "an.info()"
   ]
  }
 ],
 "metadata": {
  "kernelspec": {
   "display_name": "base",
   "language": "python",
   "name": "python3"
  },
  "language_info": {
   "codemirror_mode": {
    "name": "ipython",
    "version": 3
   },
   "file_extension": ".py",
   "mimetype": "text/x-python",
   "name": "python",
   "nbconvert_exporter": "python",
   "pygments_lexer": "ipython3",
   "version": "3.12.7"
  }
 },
 "nbformat": 4,
 "nbformat_minor": 2
}
